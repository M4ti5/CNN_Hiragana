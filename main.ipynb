{
 "cells": [
  {
   "cell_type": "markdown",
   "metadata": {},
   "source": [
    "# CNN - Hiragana\n",
    "*Matis CAFFIAUX*\n",
    "\n",
    "**8INF911 - Apprentissage Profond - Hiver 2022**"
   ]
  },
  {
   "cell_type": "code",
   "execution_count": 1,
   "metadata": {},
   "outputs": [],
   "source": [
    "import tensorflow as tf\n",
    "\n",
    "from tensorflow.keras import layers, models\n",
    "from tensorflow.keras.models import load_model\n",
    "from tensorflow.keras.utils import to_categorical\n",
    "\n",
    "import numpy as np"
   ]
  },
  {
   "cell_type": "markdown",
   "metadata": {},
   "source": [
    "## Dictionnaire de labels"
   ]
  },
  {
   "cell_type": "code",
   "execution_count": 2,
   "metadata": {},
   "outputs": [],
   "source": [
    "labelToIndex = {\n",
    "    \"A\" : 0, \"I\" : 1, \"U\" : 2, \"E\" : 3, \"O\" : 4, \n",
    "    \"KA\" : 5, \"KI\" : 6, \"KU\" : 7, \"KE\" : 8, \"KO\" : 9,\n",
    "    \"SA\" : 10 ,\"SHI\" : 11 ,\"SU\" : 12 , \"SE\" : 13 , \"SO\" : 14, \n",
    "    \"TA\" : 15 ,\"CHI\" : 16 ,\"TSU\" : 17 ,\"TE\" : 18 ,\"TO\" : 19 ,\n",
    "    \"NA\" : 20 ,\"NI\" : 21 ,\"NU\" : 22 ,\"NE\" : 23 ,\"NO\" : 24 ,\n",
    "    \"HA\" : 25 ,\"HI\" : 26 ,\"FU\" : 27 ,\"HE\" : 28 ,\"HO\" : 29 ,\n",
    "    \"MA\" : 30 ,\"MI\" : 31 ,\"MU\" : 32 ,\"ME\" : 33 ,\"MO\" : 34 ,\n",
    "    \"YA\" : 35 ,\"YU\" : 36 ,\"YO\" : 37 ,\n",
    "    \"RA\" : 38 ,\"RI\" : 39 ,\"RU\" : 40 ,\"RE\" : 41 ,\"RO\" : 42 ,\n",
    "    \"WA\" : 43 ,\"WI\" : 44 ,\"WE\" : 45 ,\"WO\" : 46 ,\n",
    "    \"N\" : 47 , \"Itération\" : 48\n",
    "}\n",
    "\n",
    "indexToLabel = {\n",
    "    0 : \"A\", 1 : \"I\", 2 : \"U\", 3 : \"E\", 4 : \"O\",\n",
    "    5 : \"KA\", 6 : \"KI\", 7 : \"KU\", 8 : \"KE\", 9 : \"KO\", \n",
    "    10 : \"SA\", 11 : \"SHI\", 12 : \"SU\" , 13 : \"SE\" , 14 : \"SO\", \n",
    "    15 : \"TA\" , 16 : \"CHI\", 17 : \"TSU\", 18 : \"TE\" , 19 : \"TO\" , \n",
    "    20 : \"NA\" , 21 : \"NI\" , 22 : \"NU\" , 23 : \"NE\" , 24 : \"NO\" , \n",
    "    25 : \"HA\" , 26 : \"HI\" , 27 : \"FU\" , 28 : \"HE\" , 29 : \"HO\" , \n",
    "    30 : \"MA\" , 31 : \"MI\" , 32 : \"MU\" , 33 : \"ME\" , 34 : \"MO\" , \n",
    "    35 : \"YA\" , 36 : \"YU\" , 37 : \"YO\" , \n",
    "    38 : \"RA\" , 39 : \"RI\" , 40 : \"RU\" , 41 : \"RE\" , 42 : \"RO\" , \n",
    "    43 : \"WA\" , 44 : \"WI\" , 45 : \"WE\" , 46 : \"WO\" , \n",
    "    47 : \"N\" , 48: \"Itération\"\n",
    "}\n",
    "\n",
    "indexToHiragana = {\n",
    "    0 : \"あ\", 1 : \"い\", 2 : \"う\", 3 : \"え\", 4 : \"お\t\",\n",
    "    5 : \"か\t\", 6 : \"き\", 7 : \"く\", 8 : \"け\", 9 : \"こ\", \n",
    "    10 : \"さ\", 11 : \"し\", 12 : \"す\" , 13 : \"せ\" , 14 : \"そ\", \n",
    "    15 : \"た\" , 16 : \"ち\", 17 : \"つ\", 18 : \"て\" , 19 : \"と\" , \n",
    "    20 : \"な\" , 21 : \"に\" , 22 : \"ぬ\" , 23 : \"ね\" , 24 : \"の\" , \n",
    "    25 : \"は\" , 26 : \"ひ\" , 27 : \"ふ\" , 28 : \"へ\" , 29 : \"ほ\" , \n",
    "    30 : \"ま\" , 31 : \"み\" , 32 : \"む\" , 33 : \"め\" , 34 : \"も\" , \n",
    "    35 : \"や\" , 36 : \"ゆ\" , 37 : \"よ\" , \n",
    "    38 : \"ら\" , 39 : \"り\" , 40 : \"る\" , 41 : \"れ\" , 42 : \"ろ\" , \n",
    "    43 : \"わ\" , 44 : \"ゐ\" , 45 : \"ゑ\" , 46 : \"を\" , \n",
    "    47 : \"ん\", 48 : \"ゝ\"\n",
    "}"
   ]
  },
  {
   "cell_type": "markdown",
   "metadata": {},
   "source": [
    "## Chargement du dataset\n",
    "Source du jeu de données : *https://github.com/rois-codh/kmnist*"
   ]
  },
  {
   "cell_type": "code",
   "execution_count": 3,
   "metadata": {},
   "outputs": [],
   "source": [
    "X_train = np.load(\"dataset/k49-train-imgs.npz\", mmap_mode='r')['arr_0']\n",
    "Y_train = np.load(\"dataset/k49-train-labels.npz\", mmap_mode='r')['arr_0']\n",
    "\n",
    "X_test = np.load(\"dataset/k49-test-imgs.npz\", mmap_mode='r')['arr_0']\n",
    "Y_test = np.load(\"dataset/k49-test-labels.npz\", mmap_mode='r')['arr_0']\n",
    "\n",
    "input_shape = (28, 28, 1)\n",
    "num_classes = 49"
   ]
  },
  {
   "cell_type": "code",
   "execution_count": 9,
   "metadata": {},
   "outputs": [
    {
     "data": {
      "text/plain": [
       "(232365, 38547)"
      ]
     },
     "execution_count": 9,
     "metadata": {},
     "output_type": "execute_result"
    }
   ],
   "source": [
    "len(X_train) , len(X_test)"
   ]
  },
  {
   "cell_type": "markdown",
   "metadata": {},
   "source": [
    "Vectorisation des labels en one hot"
   ]
  },
  {
   "cell_type": "code",
   "execution_count": 5,
   "metadata": {},
   "outputs": [],
   "source": [
    "oneHotvector = to_categorical(range(num_classes))\n",
    "\n",
    "# Vectorisation du set d'entrainement \n",
    "temp = []  \n",
    "for elem in Y_train :\n",
    "    temp.append(oneHotvector[elem])\n",
    "Y_train = temp.copy()\n",
    "\n",
    "# Vectorisation du set de test\n",
    "temp.clear()\n",
    "for elem in Y_test :\n",
    "    temp.append(oneHotvector[elem])\n",
    "Y_test = temp.copy()\n",
    "temp.clear()\n"
   ]
  },
  {
   "cell_type": "markdown",
   "metadata": {},
   "source": [
    "## Modèle CNN"
   ]
  },
  {
   "cell_type": "code",
   "execution_count": 6,
   "metadata": {},
   "outputs": [
    {
     "name": "stdout",
     "output_type": "stream",
     "text": [
      "Metal device set to: Apple M1 Max\n",
      "\n",
      "systemMemory: 32.00 GB\n",
      "maxCacheSize: 10.67 GB\n",
      "\n"
     ]
    },
    {
     "name": "stderr",
     "output_type": "stream",
     "text": [
      "2022-03-23 08:14:28.959452: I tensorflow/core/common_runtime/pluggable_device/pluggable_device_factory.cc:305] Could not identify NUMA node of platform GPU ID 0, defaulting to 0. Your kernel may not have been built with NUMA support.\n",
      "2022-03-23 08:14:28.959587: I tensorflow/core/common_runtime/pluggable_device/pluggable_device_factory.cc:271] Created TensorFlow device (/job:localhost/replica:0/task:0/device:GPU:0 with 0 MB memory) -> physical PluggableDevice (device: 0, name: METAL, pci bus id: <undefined>)\n"
     ]
    }
   ],
   "source": [
    "model = models.Sequential()\n",
    "model.add(layers.Conv2D(32,kernel_size=3,activation='relu',input_shape=input_shape))\n",
    "model.add(layers.BatchNormalization())\n",
    "model.add(layers.Conv2D(32,kernel_size=3,activation='relu'))\n",
    "model.add(layers.BatchNormalization())\n",
    "model.add(layers.Conv2D(32,kernel_size=5,strides=2,padding='same',activation='relu'))\n",
    "model.add(layers.BatchNormalization())\n",
    "model.add(layers.Dropout(0.4))\n",
    "\n",
    "model.add(layers.Conv2D(64,kernel_size=3,activation='relu'))\n",
    "model.add(layers.BatchNormalization())\n",
    "model.add(layers.Conv2D(64,kernel_size=3,activation='relu'))\n",
    "model.add(layers.BatchNormalization())\n",
    "model.add(layers.Conv2D(64,kernel_size=5,strides=2,padding='same',activation='relu'))\n",
    "model.add(layers.BatchNormalization())\n",
    "model.add(layers.Dropout(0.4))\n",
    "\n",
    "model.add(layers.Flatten())\n",
    "model.add(layers.Dense(128, activation='relu'))\n",
    "model.add(layers.BatchNormalization())\n",
    "model.add(layers.Dropout(0.4))\n",
    "model.add(layers.Dense(num_classes, activation='softmax'))\n",
    "\n",
    "model.compile(loss=\"categorical_crossentropy\", optimizer=\"adam\", metrics=[\"accuracy\"])"
   ]
  },
  {
   "cell_type": "markdown",
   "metadata": {},
   "source": [
    "### Entrainement"
   ]
  },
  {
   "cell_type": "code",
   "execution_count": 8,
   "metadata": {},
   "outputs": [],
   "source": [
    "batch_size = 20000\n",
    "epochs = 20\n",
    "X = tf.convert_to_tensor(X_train)\n",
    "Y = tf.convert_to_tensor(Y_train)\n",
    "model.fit(X, Y, batch_size=batch_size, epochs=epochs, validation_split=0.3, verbose=True)"
   ]
  },
  {
   "cell_type": "markdown",
   "metadata": {},
   "source": [
    "### Test"
   ]
  },
  {
   "cell_type": "code",
   "execution_count": null,
   "metadata": {},
   "outputs": [],
   "source": [
    "\n",
    "X_t = tf.convert_to_tensor(X_test)\n",
    "Y_t = tf.convert_to_tensor(Y_test)\n",
    "\n",
    "model.evaluate(X_t,Y_t, batch_size=batch_size)"
   ]
  },
  {
   "cell_type": "markdown",
   "metadata": {},
   "source": [
    "## Test du model CNN - *Hiragana_CNN_v1*"
   ]
  },
  {
   "cell_type": "code",
   "execution_count": 7,
   "metadata": {},
   "outputs": [
    {
     "name": "stderr",
     "output_type": "stream",
     "text": [
      "2022-03-23 08:14:37.518379: W tensorflow/core/platform/profile_utils/cpu_utils.cc:128] Failed to get CPU frequency: 0 Hz\n",
      "2022-03-23 08:14:37.580511: I tensorflow/core/grappler/optimizers/custom_graph_optimizer_registry.cc:112] Plugin optimizer for device_type GPU is enabled.\n"
     ]
    },
    {
     "name": "stdout",
     "output_type": "stream",
     "text": [
      "2/2 [==============================] - 1s 608ms/step - loss: 0.2479 - accuracy: 0.9365\n"
     ]
    },
    {
     "data": {
      "text/plain": [
       "[0.24792486429214478, 0.9365190267562866]"
      ]
     },
     "execution_count": 7,
     "metadata": {},
     "output_type": "execute_result"
    }
   ],
   "source": [
    "batch_size = 20000\n",
    "\n",
    "model = load_model('Hiragana_CNN_v1')\n",
    "X_t = tf.convert_to_tensor(X_test)\n",
    "Y_t = tf.convert_to_tensor(Y_test)\n",
    "\n",
    "model.evaluate(X_t,Y_t, batch_size=batch_size)"
   ]
  }
 ],
 "metadata": {
  "interpreter": {
   "hash": "567fb3fb249875b7da374088a9a308b573430b459dcda7af537cd6e8af06a136"
  },
  "kernelspec": {
   "display_name": "Python 3.9.7 ('base')",
   "language": "python",
   "name": "python3"
  },
  "language_info": {
   "codemirror_mode": {
    "name": "ipython",
    "version": 3
   },
   "file_extension": ".py",
   "mimetype": "text/x-python",
   "name": "python",
   "nbconvert_exporter": "python",
   "pygments_lexer": "ipython3",
   "version": "3.9.7"
  },
  "orig_nbformat": 4
 },
 "nbformat": 4,
 "nbformat_minor": 2
}
